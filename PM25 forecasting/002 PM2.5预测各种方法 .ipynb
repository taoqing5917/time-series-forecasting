{
  "cells": [
    {
      "cell_type": "code",
      "source": [
        "import keras\n",
        "keras.__version__\n",
        "from pylab import *\n",
        "plt.rc('font',family='Times New Roman')#全局改成Times New Roman||"
      ],
      "outputs": [
        {
          "output_type": "stream",
          "name": "stderr",
          "text": [
            "D:\\TAO2018\\Anaconda3\\lib\\site-packages\\h5py\\__init__.py:36: FutureWarning: Conversion of the second argument of issubdtype from `float` to `np.floating` is deprecated. In future, it will be treated as `np.float64 == np.dtype(float).type`.\n",
            "  from ._conv import register_converters as _register_converters\n",
            "Using TensorFlow backend.\n"
          ]
        }
      ],
      "execution_count": 1,
      "metadata": {}
    },
    {
      "cell_type": "markdown",
      "source": [
        "## Combining CNNs and RNNs to process long sequences\n",
        "\n",
        "\n",
        "Because 1D convnets process input patches independently, they are not sensitive to the order of the timesteps (beyond a local scale, the \n",
        "size of the convolution windows), unlike RNNs. Of course, in order to be able to recognize longer-term patterns, one could stack many \n",
        "convolution layers and pooling layers, resulting in upper layers that would \"see\" long chunks of the original inputs -- but that's still a \n",
        "fairly weak way to induce order-sensitivity. One way to evidence this weakness is to try 1D convnets on the temperature forecasting problem \n",
        "from the previous section, where order-sensitivity was key to produce good predictions. Let's see:"
      ],
      "metadata": {}
    },
    {
      "cell_type": "code",
      "source": [
        "# We reuse the following variables defined in the last section:\n",
        "# float_data, train_gen, val_gen, val_steps\n",
        "\n",
        "import os\n",
        "import numpy as np\n",
        "from matplotlib import pyplot as plt\n",
        "#data_dir = 'D:\\TAO2018\\MyTensorFlow\\论文写作——时间序列预测\\空气质量预测\\data'\n",
        "#fname = os.path.join( 'pollution更改0308减少变量 - 把0替换.csv')\n",
        "fname = os.path.join( 'pollution201907更改终版 - 去除气压.csv')\n",
        "\n",
        "f = open(fname)\n",
        "data = f.read()\n",
        "f.close()\n",
        "\n",
        "lines = data.split('\\n')\n",
        "header = lines[0].split(',')\n",
        "lines = lines[1:43801]\n",
        "\n",
        "print(header)\n",
        "print(len(lines))\n",
        "\n",
        "\n",
        "#Let's convert all of these  lines of data into a Numpy array:\n",
        "float_data_qian = np.zeros((len(lines), len(header) - 1))\n",
        "for i, line in enumerate(lines):\n",
        "    values = [float(x) for x in line.split(',')[1:]]\n",
        "    float_data_qian[i, :] = values\n",
        "\n",
        "\n",
        "temp = float_data_qian[:, 1]  # 目标（标准化）\n",
        "   \n",
        "mean = float_data_qian[:30000].mean(axis=0)\n",
        "float_data =float_data_qian- mean\n",
        "std = float_data_qian[:30000].std(axis=0)\n",
        "float_data = float_data/std\n",
        "\n",
        "def generator(data, lookback, delay, min_index, max_index,\n",
        "              shuffle=False, batch_size=64, step=6):\n",
        "    if max_index is None:\n",
        "        max_index = len(data) - delay - 1\n",
        "    i = min_index + lookback\n",
        "    while 1:\n",
        "        if shuffle:\n",
        "            rows = np.random.randint(\n",
        "                min_index + lookback, max_index, size=batch_size)\n",
        "        else:\n",
        "            if i + batch_size >= max_index:\n",
        "                i = min_index + lookback\n",
        "            rows = np.arange(i, min(i + batch_size, max_index))\n",
        "            i += len(rows)\n",
        "\n",
        "        samples = np.zeros((len(rows),\n",
        "                           lookback // step,\n",
        "                           data.shape[-1]))\n",
        "        targets = np.zeros((len(rows),))\n",
        "        for j, row in enumerate(rows):\n",
        "            indices = range(rows[j] - lookback, rows[j], step)\n",
        "            samples[j] = data[indices]\n",
        "            targets[j] = data[rows[j] + delay][1]   #======================================\n",
        "        yield samples, targets\n",
        "\n",
        "\n",
        "lookback = 8             # ========增大==========\n",
        "#lookback = 6#过去5天\n",
        "step = 1     #每1小时一个采样点\n",
        "delay = 2    #预测5天之后\n",
        "batch_size = 50\n",
        "\n",
        "train_gen = generator(float_data,\n",
        "                      lookback=lookback,\n",
        "                      delay=delay,\n",
        "                      min_index=0,\n",
        "                      max_index=30000,\n",
        "                      shuffle=True,\n",
        "                      step=step, \n",
        "                      batch_size=batch_size)\n",
        "val_gen = generator(float_data,\n",
        "                    lookback=lookback,\n",
        "                    delay=delay,\n",
        "                    min_index=30001,\n",
        "                    max_index=38000,\n",
        "                    step=step,\n",
        "                    batch_size=batch_size)\n",
        "test_gen = generator(float_data,\n",
        "                     lookback=lookback,\n",
        "                     delay=delay,\n",
        "                     min_index=38001,\n",
        "                     max_index=None,\n",
        "                     step=step,\n",
        "                     batch_size=batch_size)\n",
        "\n",
        "# This is how many steps to draw from `val_gen`\n",
        "# in order to see the whole validation set:\n",
        "val_steps = (38000 - 30001 - lookback) // batch_size\n",
        "\n",
        "# This is how many steps to draw from `test_gen`\n",
        "# in order to see the whole test set:\n",
        "test_steps = (len(float_data) - 38001 - lookback) // batch_size\n",
        "print('测试集抽取次数：',test_steps)\n",
        "print('验证集抽取次数：',val_steps)\n",
        "\n",
        "for data_batch,labels_batch in test_gen:\n",
        "    print('data_batch shape',data_batch.shape)\n",
        "    print('labels_batch shape',labels_batch.shape)\n",
        "    break\n",
        "#print(train_gen.shape)"
      ],
      "outputs": [
        {
          "output_type": "stream",
          "name": "stdout",
          "text": [
            "['date', 'dew', 'pollution', 'temp', 'wnd_dir', 'wnd_spd', 'snow', 'rain']\n",
            "43800\n",
            "测试集抽取次数： 115\n",
            "验证集抽取次数： 159\n",
            "data_batch shape (50, 8, 7)\n",
            "labels_batch shape (50,)\n"
          ]
        }
      ],
      "execution_count": 2,
      "metadata": {}
    },
    {
      "cell_type": "markdown",
      "source": [
        "# 绘制污染变化情况"
      ],
      "metadata": {}
    },
    {
      "cell_type": "code",
      "source": [
        "import matplotlib.pyplot as plt\n",
        "\n",
        "\n",
        "plt.figure(figsize=(20,5))\n",
        "\n",
        "#调整坐标轴刻度的大小\n",
        "plt.xticks(fontsize=25)\n",
        "plt.yticks(fontsize=25)\n",
        "\n",
        "plt.plot(temp[0:], 'k')#, label='True value'   35041开始2014年\n",
        "#plt.plot(pre_power, 'b', label='Predicted value')\n",
        "\n",
        "\n",
        "# 设置图表标题并给坐标轴加上标签\n",
        "plt.xlabel(\"Time(hourly points between 01/02/2010 and 12/31/2014)\",fontsize=26)\n",
        "plt.ylabel(\"PM2.5 concentration (μg/m^3)\",fontsize=23)\n",
        "#plt.title('True value and predicted value')\n",
        "\n",
        "# 设置图例字体大小\n",
        "plt.legend(fontsize=0)\n",
        "plt.savefig('污染变化0723.pdf', bbox_inches='tight')\n",
        "plt.show()"
      ],
      "outputs": [
        {
          "output_type": "stream",
          "name": "stderr",
          "text": [
            "No handles with labels found to put in legend.\n"
          ]
        },
        {
          "output_type": "display_data",
          "data": {
            "image/png": "[encoded data removed]",
            "text/plain": [
              "<Figure size 1440x360 with 1 Axes>"
            ]
          },
          "metadata": {}
        }
      ],
      "execution_count": 3,
      "metadata": {}
    },
    {
      "cell_type": "markdown",
      "source": [
        "This is our model, starting with two `Conv1D` layers and following-up with a `GRU` layer:"
      ],
      "metadata": {}
    },
    {
      "cell_type": "code",
      "source": [
        "from keras.models import Sequential\n",
        "from keras import layers\n",
        "from keras.optimizers import RMSprop\n",
        "'''回调函数'''\n",
        "callbacks_list = [\n",
        "    keras.callbacks.ModelCheckpoint(\n",
        "        filepath='B0712_lstm.model',#============保存最佳模型\n",
        "        monitor='val_loss',\n",
        "        save_best_only=True,\n",
        "    ),\n",
        "  \n",
        "    keras.callbacks.ReduceLROnPlateau(  monitor='val_loss', factor=0.1, patience=20, ),\n",
        "    keras.callbacks.EarlyStopping(   #============EarlyStopping\n",
        "        monitor='mse',\n",
        "        patience=5,\n",
        "    )\n",
        "]\n",
        "\n",
        "model = Sequential()\n",
        "#model.add(layers.Conv1D(40, 3, activation='relu',\n",
        "#                        input_shape=(None, float_data.shape[-1])))\n",
        "#model.add(layers.Dropout(0.1))\n",
        "#model.add(layers.MaxPooling1D(2))\n",
        "#model.add(layers.Conv1D(80, 3, activation='relu'))\n",
        "#model.add(layers.Dropout(0.1))\n",
        "\n",
        "#model.add(layers.Bidirectional(layers.GRU(80, dropout=0.2,recurrent_dropout=0.2,return_sequences = True),input_shape=(None, float_data.shape[-1])))\n",
        "#model.add(layers.Bidirectional(layers.GRU(80, dropout=0.,recurrent_dropout=0.,return_sequences = True)))\n",
        "#model.add(layers.Dropout(0.2))\n",
        "#model.add(layers.Bidirectional(layers.GRU(80, dropout=0.2, recurrent_dropout=0.2)))\n",
        "\n",
        "model.add(layers.GRU(500,dropout=0.0,recurrent_dropout=0.0,  input_shape=(None, float_data.shape[-1])))# return_sequences = True,\n",
        "model.add(layers.Dropout(0.2))\n",
        "\n",
        "#model.add(layers.Flatten(input_shape=(lookback // step, float_data.shape[-1])))\n",
        "#model.add(layers.Dense(500, activation='relu'))\n",
        "#model.add(layers.LSTM(80,dropout=0.0,recurrent_dropout=0.0, activation='relu'))\n",
        "\n",
        "\n",
        "#model.add(layers.Dropout(0.4))\n",
        "model.add(layers.Dense(50))\n",
        "model.add(layers.Dense(1))\n",
        "\n",
        "model.summary()\n",
        "\n",
        "model.compile(optimizer=RMSprop(lr=0.0005), loss='mae',metrics=['mse'])#lr=0.0005\n",
        "history = model.fit_generator(train_gen,\n",
        "                              steps_per_epoch=600,\n",
        "                              epochs=50,\n",
        "                              callbacks=callbacks_list,\n",
        "                              validation_data=val_gen,\n",
        "                              validation_steps=val_steps)"
      ],
      "outputs": [
        {
          "output_type": "stream",
          "name": "stdout",
          "text": [
            "_________________________________________________________________\n",
            "Layer (type)                 Output Shape              Param #   \n",
            "=================================================================\n",
            "gru_1 (GRU)                  (None, 500)               762000    \n",
            "_________________________________________________________________\n",
            "dropout_1 (Dropout)          (None, 500)               0         \n",
            "_________________________________________________________________\n",
            "dense_1 (Dense)              (None, 50)                25050     \n",
            "_________________________________________________________________\n",
            "dense_2 (Dense)              (None, 1)                 51        \n",
            "=================================================================\n",
            "Total params: 787,101\n",
            "Trainable params: 787,101\n",
            "Non-trainable params: 0\n",
            "_________________________________________________________________\n",
            "Epoch 1/50\n",
            "600/600 [==============================] - 56s 94ms/step - loss: 0.3038 - mean_squared_error: 0.2631 - val_loss: 0.2851 - val_mean_squared_error: 0.2141\n",
            "Epoch 2/50\n",
            "  2/600 [..............................] - ETA: 51s - loss: 0.2520 - mean_squared_error: 0.1473"
          ]
        },
        {
          "output_type": "stream",
          "name": "stderr",
          "text": [
            "D:\\TAO2018\\Anaconda3\\lib\\site-packages\\keras\\callbacks.py:535: RuntimeWarning: Early stopping conditioned on metric `mse` which is not available. Available metrics are: val_loss,val_mean_squared_error,loss,mean_squared_error,lr\n",
            "  (self.monitor, ','.join(list(logs.keys()))), RuntimeWarning\n"
          ]
        },
        {
          "output_type": "stream",
          "name": "stdout",
          "text": [
            "600/600 [==============================] - 55s 92ms/step - loss: 0.2810 - mean_squared_error: 0.2455 - val_loss: 0.2786 - val_mean_squared_error: 0.2114\n",
            "Epoch 3/50\n",
            "600/600 [==============================] - 55s 91ms/step - loss: 0.2839 - mean_squared_error: 0.2699 - val_loss: 0.2853 - val_mean_squared_error: 0.2113\n",
            "Epoch 4/50\n",
            "600/600 [==============================] - 54s 90ms/step - loss: 0.2782 - mean_squared_error: 0.2410 - val_loss: 0.2881 - val_mean_squared_error: 0.2246\n",
            "Epoch 5/50\n",
            "600/600 [==============================] - 54s 90ms/step - loss: 0.2767 - mean_squared_error: 0.2344 - val_loss: 0.2751 - val_mean_squared_error: 0.2063\n",
            "Epoch 6/50\n",
            "600/600 [==============================] - 54s 90ms/step - loss: 0.2752 - mean_squared_error: 0.2388 - val_loss: 0.2801 - val_mean_squared_error: 0.2054\n",
            "Epoch 7/50\n",
            "600/600 [==============================] - 54s 91ms/step - loss: 0.2708 - mean_squared_error: 0.2247 - val_loss: 0.2768 - val_mean_squared_error: 0.2050\n",
            "Epoch 8/50\n",
            "600/600 [==============================] - 54s 90ms/step - loss: 0.2752 - mean_squared_error: 0.2295 - val_loss: 0.2767 - val_mean_squared_error: 0.2128\n",
            "Epoch 9/50\n",
            "600/600 [==============================] - 55s 91ms/step - loss: 0.2694 - mean_squared_error: 0.2264 - val_loss: 0.2722 - val_mean_squared_error: 0.2041\n",
            "Epoch 10/50\n",
            "600/600 [==============================] - 55s 91ms/step - loss: 0.2717 - mean_squared_error: 0.2374 - val_loss: 0.2764 - val_mean_squared_error: 0.2127\n",
            "Epoch 11/50\n",
            "600/600 [==============================] - 55s 92ms/step - loss: 0.2712 - mean_squared_error: 0.2210 - val_loss: 0.2804 - val_mean_squared_error: 0.2261\n",
            "Epoch 12/50\n",
            "600/600 [==============================] - 55s 92ms/step - loss: 0.2696 - mean_squared_error: 0.2259 - val_loss: 0.2705 - val_mean_squared_error: 0.2079\n",
            "Epoch 13/50\n",
            "600/600 [==============================] - 55s 92ms/step - loss: 0.2654 - mean_squared_error: 0.2113 - val_loss: 0.2746 - val_mean_squared_error: 0.1999\n",
            "Epoch 14/50\n",
            "600/600 [==============================] - 56s 93ms/step - loss: 0.2652 - mean_squared_error: 0.2182 - val_loss: 0.2745 - val_mean_squared_error: 0.2131\n",
            "Epoch 15/50\n",
            "600/600 [==============================] - 56s 93ms/step - loss: 0.2653 - mean_squared_error: 0.2226 - val_loss: 0.2718 - val_mean_squared_error: 0.2049\n",
            "Epoch 16/50\n",
            "600/600 [==============================] - 56s 93ms/step - loss: 0.2636 - mean_squared_error: 0.2122 - val_loss: 0.2702 - val_mean_squared_error: 0.2102\n",
            "Epoch 17/50\n",
            "600/600 [==============================] - 56s 93ms/step - loss: 0.2641 - mean_squared_error: 0.2144 - val_loss: 0.2672 - val_mean_squared_error: 0.2004\n",
            "Epoch 18/50\n",
            "600/600 [==============================] - 56s 93ms/step - loss: 0.2589 - mean_squared_error: 0.2058 - val_loss: 0.2684 - val_mean_squared_error: 0.2044\n",
            "Epoch 19/50\n",
            "600/600 [==============================] - 56s 93ms/step - loss: 0.2588 - mean_squared_error: 0.2013 - val_loss: 0.2702 - val_mean_squared_error: 0.2014\n",
            "Epoch 20/50\n",
            "600/600 [==============================] - 56s 93ms/step - loss: 0.2613 - mean_squared_error: 0.2135 - val_loss: 0.2700 - val_mean_squared_error: 0.2072\n",
            "Epoch 21/50\n",
            "600/600 [==============================] - 56s 93ms/step - loss: 0.2575 - mean_squared_error: 0.1998 - val_loss: 0.2672 - val_mean_squared_error: 0.2012\n",
            "Epoch 22/50\n",
            "600/600 [==============================] - 56s 93ms/step - loss: 0.2572 - mean_squared_error: 0.2211 - val_loss: 0.2680 - val_mean_squared_error: 0.2014\n",
            "Epoch 23/50\n",
            "600/600 [==============================] - 56s 93ms/step - loss: 0.2561 - mean_squared_error: 0.1983 - val_loss: 0.2698 - val_mean_squared_error: 0.2044\n",
            "Epoch 24/50\n",
            "600/600 [==============================] - 56s 93ms/step - loss: 0.2555 - mean_squared_error: 0.1983 - val_loss: 0.2694 - val_mean_squared_error: 0.2075\n",
            "Epoch 25/50\n",
            "600/600 [==============================] - 55s 92ms/step - loss: 0.2593 - mean_squared_error: 0.2239 - val_loss: 0.2728 - val_mean_squared_error: 0.2096\n",
            "Epoch 26/50\n",
            "600/600 [==============================] - 56s 93ms/step - loss: 0.2547 - mean_squared_error: 0.2005 - val_loss: 0.2680 - val_mean_squared_error: 0.2023\n",
            "Epoch 27/50\n",
            "600/600 [==============================] - 58s 96ms/step - loss: 0.2512 - mean_squared_error: 0.1933 - val_loss: 0.2717 - val_mean_squared_error: 0.2060\n",
            "Epoch 28/50\n",
            "600/600 [==============================] - 56s 93ms/step - loss: 0.2509 - mean_squared_error: 0.1959 - val_loss: 0.2714 - val_mean_squared_error: 0.2113\n",
            "Epoch 29/50\n",
            "600/600 [==============================] - 55s 91ms/step - loss: 0.2484 - mean_squared_error: 0.1940 - val_loss: 0.2735 - val_mean_squared_error: 0.2095\n",
            "Epoch 30/50\n",
            "600/600 [==============================] - 55s 92ms/step - loss: 0.2458 - mean_squared_error: 0.1870 - val_loss: 0.2747 - val_mean_squared_error: 0.2116\n",
            "Epoch 31/50\n",
            "600/600 [==============================] - 57s 95ms/step - loss: 0.2440 - mean_squared_error: 0.1806 - val_loss: 0.2774 - val_mean_squared_error: 0.2156\n",
            "Epoch 32/50\n",
            "600/600 [==============================] - 56s 93ms/step - loss: 0.2461 - mean_squared_error: 0.1901 - val_loss: 0.2791 - val_mean_squared_error: 0.2146\n",
            "Epoch 33/50\n",
            "600/600 [==============================] - 56s 93ms/step - loss: 0.2411 - mean_squared_error: 0.1730 - val_loss: 0.2813 - val_mean_squared_error: 0.2229\n",
            "Epoch 34/50\n",
            "600/600 [==============================] - 56s 93ms/step - loss: 0.2352 - mean_squared_error: 0.1725 - val_loss: 0.2742 - val_mean_squared_error: 0.2138\n",
            "Epoch 35/50\n",
            "600/600 [==============================] - 55s 92ms/step - loss: 0.2362 - mean_squared_error: 0.1648 - val_loss: 0.2792 - val_mean_squared_error: 0.2098\n",
            "Epoch 36/50\n",
            "600/600 [==============================] - 55s 91ms/step - loss: 0.2341 - mean_squared_error: 0.1742 - val_loss: 0.2765 - val_mean_squared_error: 0.2161\n",
            "Epoch 37/50\n",
            "600/600 [==============================] - 55s 91ms/step - loss: 0.2327 - mean_squared_error: 0.1695 - val_loss: 0.2807 - val_mean_squared_error: 0.2226\n",
            "Epoch 38/50\n",
            "600/600 [==============================] - 55s 91ms/step - loss: 0.2244 - mean_squared_error: 0.1606 - val_loss: 0.2773 - val_mean_squared_error: 0.2169\n",
            "Epoch 39/50\n",
            "600/600 [==============================] - 55s 92ms/step - loss: 0.2206 - mean_squared_error: 0.1478 - val_loss: 0.2799 - val_mean_squared_error: 0.2226\n",
            "Epoch 40/50\n",
            "600/600 [==============================] - 55s 91ms/step - loss: 0.2221 - mean_squared_error: 0.1592 - val_loss: 0.2793 - val_mean_squared_error: 0.2191\n",
            "Epoch 41/50\n",
            "600/600 [==============================] - 54s 91ms/step - loss: 0.2202 - mean_squared_error: 0.1569 - val_loss: 0.2794 - val_mean_squared_error: 0.2196\n",
            "Epoch 42/50\n",
            "600/600 [==============================] - 55s 91ms/step - loss: 0.2139 - mean_squared_error: 0.1461 - val_loss: 0.2795 - val_mean_squared_error: 0.2195\n",
            "Epoch 43/50\n",
            "600/600 [==============================] - 55s 92ms/step - loss: 0.2186 - mean_squared_error: 0.1616 - val_loss: 0.2812 - val_mean_squared_error: 0.2225\n",
            "Epoch 44/50\n",
            "600/600 [==============================] - 55s 92ms/step - loss: 0.2187 - mean_squared_error: 0.1603 - val_loss: 0.2802 - val_mean_squared_error: 0.2194\n",
            "Epoch 45/50\n",
            "600/600 [==============================] - 55s 91ms/step - loss: 0.2167 - mean_squared_error: 0.1540 - val_loss: 0.2814 - val_mean_squared_error: 0.2214\n",
            "Epoch 46/50\n",
            "600/600 [==============================] - 55s 92ms/step - loss: 0.2171 - mean_squared_error: 0.1489 - val_loss: 0.2805 - val_mean_squared_error: 0.2200\n",
            "Epoch 47/50\n",
            "600/600 [==============================] - 55s 92ms/step - loss: 0.2162 - mean_squared_error: 0.1565 - val_loss: 0.2827 - val_mean_squared_error: 0.2222\n",
            "Epoch 48/50\n",
            "600/600 [==============================] - 55s 92ms/step - loss: 0.2141 - mean_squared_error: 0.1564 - val_loss: 0.2829 - val_mean_squared_error: 0.2237\n",
            "Epoch 49/50\n",
            "600/600 [==============================] - 55s 91ms/step - loss: 0.2124 - mean_squared_error: 0.1447 - val_loss: 0.2821 - val_mean_squared_error: 0.2227\n",
            "Epoch 50/50\n",
            "600/600 [==============================] - 55s 92ms/step - loss: 0.2112 - mean_squared_error: 0.1476 - val_loss: 0.2832 - val_mean_squared_error: 0.2243\n"
          ]
        }
      ],
      "execution_count": 4,
      "metadata": {}
    },
    {
      "cell_type": "code",
      "source": [
        "model.save('LSTM0712.model')"
      ],
      "outputs": [],
      "execution_count": null,
      "metadata": {}
    },
    {
      "cell_type": "code",
      "source": [
        "import matplotlib.pyplot as plt\n",
        "loss = history.history['loss']\n",
        "val_loss = history.history['val_loss']\n",
        "mse = history.history['mean_squared_error']\n",
        "val_mse = history.history['val_mean_squared_error']\n",
        "epochs = range(len(loss))\n",
        "#画评价指标\n",
        "plt.plot(epochs, mse, 'bo', label='Training mse')\n",
        "plt.plot(epochs, val_mse, 'b', label='Validation mse')\n",
        "plt.title('Training and validation mse')\n",
        "plt.legend()\n",
        "plt.figure()\n",
        "#画损失指标\n",
        "plt.plot(epochs, loss, 'bo', label='Training loss')\n",
        "plt.plot(epochs, val_loss, 'b', label='Validation loss')\n",
        "plt.title('Training and validation loss')\n",
        "plt.legend()\n",
        "\n",
        "plt.show()"
      ],
      "outputs": [
        {
          "output_type": "display_data",
          "data": {
            "image/png": "[encoded data removed]",
            "text/plain": [
              "<Figure size 432x288 with 1 Axes>"
            ]
          },
          "metadata": {}
        },
        {
          "output_type": "display_data",
          "data": {
            "image/png": "[encoded data removed]",
            "text/plain": [
              "<Figure size 432x288 with 1 Axes>"
            ]
          },
          "metadata": {}
        }
      ],
      "execution_count": 5,
      "metadata": {}
    },
    {
      "cell_type": "code",
      "source": [],
      "outputs": [],
      "execution_count": null,
      "metadata": {}
    },
    {
      "cell_type": "code",
      "source": [
        "#model.save('PM25预测全连接.model')\n",
        "#history.history   #查看模型返回参数\n",
        "print('01 train_mae：',history.history['loss'][-1])\n",
        "print('02 val_mae：',history.history['val_loss'][-1])\n",
        "print('03 train_mse：',history.history['mean_squared_error'][-1])\n",
        "print('04 val_mse:',history.history['val_mean_squared_error'][-1])\n",
        "test_loss,test_mse = model.evaluate_generator(test_gen, 114)\n",
        "print('05 test_mae:',test_loss)\n",
        "print('06 test_mse:',test_mse)\n",
        "print('07 lr:',history.history['lr'][-1])\n",
        "model.metrics_names   #查看评价指标的名字\n",
        "\n",
        "#history.history"
      ],
      "outputs": [],
      "execution_count": null,
      "metadata": {}
    },
    {
      "cell_type": "code",
      "source": [
        "from keras.models import load_model\n",
        "perdict_model = load_model('B0712_lstm.model')#ANN0712.model\n",
        "perdict_model.summary\n",
        "\n",
        "pre_power = perdict_model.predict_generator(test_gen, steps = 114, max_queue_size=10, workers=1, use_multiprocessing=False, verbose=0)\n",
        "plt.plot(pre_power)\n",
        "plt.show()\n",
        "print('预测总长度',len(pre_power))\n",
        "print(std[1])\n",
        "print(mean[1])"
      ],
      "outputs": [
        {
          "output_type": "display_data",
          "data": {
            "image/png": "[encoded data removed]",
            "text/plain": [
              "<Figure size 432x288 with 1 Axes>"
            ]
          },
          "metadata": {}
        },
        {
          "output_type": "stream",
          "name": "stdout",
          "text": [
            "预测总长度 5700\n",
            "92.52370083675247\n",
            "99.22726666666667\n"
          ]
        }
      ],
      "execution_count": 3,
      "metadata": {}
    },
    {
      "cell_type": "code",
      "source": [],
      "outputs": [],
      "execution_count": null,
      "metadata": {}
    },
    {
      "cell_type": "code",
      "source": [
        "#***********************************还原数据******************************************#\n",
        "pre_power=pre_power * std[1]\n",
        "pre_power=pre_power + mean[1]\n",
        "plt.plot(pre_power)\n",
        "plt.show()"
      ],
      "outputs": [
        {
          "output_type": "display_data",
          "data": {
            "image/png": "[encoded data removed]",
            "text/plain": [
              "<Figure size 432x288 with 1 Axes>"
            ]
          },
          "metadata": {}
        }
      ],
      "execution_count": 4,
      "metadata": {}
    },
    {
      "cell_type": "markdown",
      "source": [
        "# 求误差 MAE MSE RMSE"
      ],
      "metadata": {}
    },
    {
      "cell_type": "code",
      "source": [
        "norm_temp = float_data[:, 1]  \n",
        "nttt = norm_temp[38000+68:43700+68]\n",
        "ttt = temp[38000+58:43700+58]\n",
        "\n",
        "\n",
        "target = ttt\n",
        "prediction = pre_power\n",
        "\n",
        "def smape(actual, predicted):\n",
        "    a = np.abs(np.array(actual) - np.array(predicted))\n",
        "    b = np.array(actual) + np.array(predicted)\n",
        "    return 2 * np.mean(np.divide(a, b, out=np.zeros_like(a), where=b!=0, casting='unsafe'))\n",
        "\n",
        "def mean_absolute_percentage_error(y_true, y_pred): \n",
        "    y_true, y_pred = np.array(y_true), np.array(y_pred)\n",
        "    return np.mean(np.abs((y_true - y_pred) / y_true)) * 100 \n",
        "\n",
        "error = []\n",
        "for i in range(len(target)):\n",
        "    error.append(target[i] - prediction[i])\n",
        "  \n",
        "#print(\"Errors: \", error)\n",
        "#print(error)\n",
        "  \n",
        "squaredError = []\n",
        "absError = []\n",
        "for val in error:\n",
        "    squaredError.append(val * val)#target-prediction之差平方 \n",
        "    absError.append(abs(val))#误差绝对值\n",
        " \n",
        "#print(\"Square Error: \", squaredError)\n",
        "#print(\"Absolute Value of Error: \", absError)\n",
        " \n",
        "print(\"MSE = \", sum(squaredError) / len(squaredError))#均方误差MSE\n",
        " \n",
        " \n",
        "from math import sqrt\n",
        "print(\"RMSE = \", sqrt(sum(squaredError) / len(squaredError)))#均方根误差RMSE\n",
        "print(\"MAE = \", sum(absError) / len(absError))#平均绝对误差MAE\n",
        "\n",
        "print(\"MAPE = \", mean_absolute_percentage_error(target, prediction))#平均绝对误差MAE\n",
        "print(\"SMAPE = \", smape(target, prediction))#平均绝对误差MAE"
      ],
      "outputs": [
        {
          "output_type": "stream",
          "name": "stdout",
          "text": [
            "MSE =  237.88912280701754\n",
            "RMSE =  15.42365465144424\n",
            "MAE =  10.275925164473684\n",
            "MAPE =  246.9317344198112\n",
            "SMAPE =  0.9035867046466995\n"
          ]
        }
      ],
      "execution_count": 8,
      "metadata": {}
    },
    {
      "cell_type": "code",
      "source": [
        "def mean_absolute_percentage_error(y_true, y_pred): \n",
        "    y_true, y_pred = np.array(y_true), np.array(y_pred)\n",
        "    return np.mean(np.abs((y_true - y_pred) / y_true)) * 100\n",
        "\n",
        "print(\"MAPE = \", mean_absolute_percentage_error(target, prediction))#平均绝对误差MAE\n",
        "\n",
        "# 函数：计算相关系数\n",
        "def calc_corr(a, b):\n",
        "    a_avg = sum(a)/len(a)\n",
        "    b_avg = sum(b)/len(b) \n",
        "    # 计算分子，协方差————按照协方差公式，本来要除以n的，由于在相关系数中上下同时约去了n，于是可以不除以n\n",
        "    cov_ab = sum([(x - a_avg)*(y - b_avg) for x,y in zip(a, b)])\n",
        "    # 计算分母，方差乘积————方差本来也要除以n，在相关系数中上下同时约去了n，于是可以不除以n\n",
        "    sq = math.sqrt(sum([(x - a_avg)**2 for x in a])*sum([(x - b_avg)**2 for x in b])) \n",
        "    corr_factor = cov_ab/sq\n",
        "    #return corr_factor\n",
        "    print(corr_factor)\n",
        "\n",
        "#http://www.itdaan.com/blog/2018/05/03/4ba16144b1f1e3177afbfa180690e9b2.html    \n",
        "# 计算相关度\n",
        "def computeCorrelation(x,y):\n",
        "    xBar = np.mean(x)\n",
        "    yBar = np.mean(y)\n",
        "    SSR = 0.0\n",
        "    varX = 0.0\n",
        "    varY = 0.0\n",
        "    for i in range(0,len(x)):\n",
        "        diffXXbar = x[i] - xBar\n",
        "        difYYbar = y[i] - yBar\n",
        "        SSR += (diffXXbar * difYYbar)\n",
        "        varX += diffXXbar**2\n",
        "        varY += difYYbar**2\n",
        "    SST = math.sqrt(varX * varY)\n",
        "    return SSR/SST\n",
        "\n",
        "# 计算R平方\n",
        "def polyfit(x,y,degree):\n",
        "    results = {}\n",
        "    coeffs = np.polyfit(x,y,degree)\n",
        "    results['polynomial'] = coeffs.tolist()\n",
        "    p = np.poly1d(coeffs)\n",
        "    yhat = p(x)\n",
        "    ybar = np.sum(y)/len(y)\n",
        "    ssreg = np.sum((yhat - ybar)**2)\n",
        "    sstot = np.sum((y - ybar)**2)\n",
        "    results['determination'] = ssreg/sstot\n",
        "    return results\n",
        "\n",
        "print('lstm:')\n",
        "calc_corr(target, prediction)"
      ],
      "outputs": [
        {
          "output_type": "stream",
          "name": "stdout",
          "text": [
            "MAPE =  246.9317344198112\n",
            "lstm:\n",
            "0.9843575384385869\n"
          ]
        }
      ],
      "execution_count": 6,
      "metadata": {}
    },
    {
      "cell_type": "markdown",
      "source": [
        "# 画散点图"
      ],
      "metadata": {}
    },
    {
      "cell_type": "code",
      "source": [
        "import matplotlib.pyplot as plt\n",
        "\n",
        "# s为点的大小\n",
        "#plt.scatter(x_values,y_values,s=100)\n",
        "plt.figure(figsize=(15,9))\n",
        "\n",
        "plt.xlim(xmax=500,xmin=0)\n",
        "plt.ylim(ymax=500,ymin=0)\n",
        "\n",
        "plt.scatter(prediction,ttt,s=10,c='r')\n",
        "#ttt\n",
        "# 设置图表标题并给坐标轴加上标签\n",
        "#plt.title(\"GRU\",fontsize=24)\n",
        "plt.xlabel(\"Predicted value (μg/m^3)\",fontsize=26)\n",
        "plt.ylabel(\"Observed value (μg/m^3)\",fontsize=26)\n",
        "\n",
        "# 设置刻度标记的大小\n",
        "plt.tick_params(axis='both',which='major',labelsize=26)\n",
        "\n",
        "plt.show()"
      ],
      "outputs": [],
      "execution_count": null,
      "metadata": {}
    },
    {
      "cell_type": "code",
      "source": [
        "import numpy  \n",
        "numpy.savetxt('B 7月PM25预测真实值.csv', ttt, delimiter = ',')  #注意，由于这里预测的是两个小时后的数据 真实值是从35800+58+2开始的"
      ],
      "outputs": [],
      "execution_count": null,
      "metadata": {}
    },
    {
      "cell_type": "code",
      "source": [
        "import numpy  \n",
        "numpy.savetxt('B 7月PM25预测结果ANN.csv', pre_power, delimiter = ',')"
      ],
      "outputs": [],
      "execution_count": null,
      "metadata": {}
    },
    {
      "cell_type": "code",
      "source": [
        "import matplotlib.pyplot as plt\n",
        "\n",
        "steps = range(len(pre_power))\n",
        "\n",
        "plt.figure(figsize=(15,9))\n",
        "\n",
        "#调整坐标轴刻度的大小\n",
        "plt.xticks(fontsize=25)\n",
        "plt.yticks(fontsize=25)\n",
        "\n",
        "\n",
        "plt.plot(temp[38000+58:], 'r', label='True value')\n",
        "plt.plot(pre_power, 'b', label='Predicted value')\n",
        "#plt.plot(range(5760), temp[38000:43760], 'r', label='True value')\n",
        "#plt.plot(pre_power, 'b', label='predicted value')\n",
        "\n",
        "# 设置图表标题并给坐标轴加上标签\n",
        "plt.xlabel(\"Time(h)\",fontsize=26)\n",
        "plt.ylabel(\"PM2.5 concentration (μg/m^3)\",fontsize=26)\n",
        "#plt.title('True value and predicted value')\n",
        "\n",
        "# 设置图例字体大小\n",
        "plt.legend(fontsize=26)\n",
        "\n",
        "plt.show()"
      ],
      "outputs": [],
      "execution_count": null,
      "metadata": {}
    },
    {
      "cell_type": "markdown",
      "source": [
        "# 画局部放大图"
      ],
      "metadata": {}
    },
    {
      "cell_type": "raw",
      "source": [
        "# !/usr/bin/env python\n",
        "\n",
        "import numpy as np\n",
        "import matplotlib.pyplot as plt\n",
        "from matplotlib.patches import ConnectionPatch\n",
        "\n",
        "def f1(t):\n",
        "    return np.exp(-t)*np.cos(2*np.pi*t)\n",
        "\n",
        "def f11(t):\n",
        "    return np.exp(-t)*np.cos(2*np.pi*t+0.2)\n",
        "\n",
        "def f111(t):\n",
        "    return np.exp(-t+0.2)*np.cos(2*np.pi*t)\n",
        "\n",
        "t = np.arange(0.0,5.0,0.02)\n",
        "\n",
        "plt.figure(figsize=(16,8),dpi=98)\n",
        "p1 = plt.subplot(121,aspect=5/2.5)\n",
        "p2 = plt.subplot(122,aspect=0.5/0.05)\n",
        "\n",
        "label_f0 = r\"$f(t)=e^{-t+\\alpha} \\cos (2 \\pi t+\\beta)$\"\n",
        "label_f1 = r\"$\\alpha=0,\\beta=0$\"\n",
        "label_f11 = r\"$\\alpha=0,\\beta=0.2$\"\n",
        "label_f111 = r\"$\\alpha=0.2,\\beta=0$\"\n",
        "\n",
        "p1.plot(t,f1(t),\"g\",label=label_f1,linewidth=2)\n",
        "p1.plot(t,f11(t),\"r-.\",label=label_f11,linewidth=2)\n",
        "p1.plot(t,f111(t),\"b:\",label=label_f111,linewidth=2)\n",
        "p2.plot(t,f1(t),\"g\",label=label_f1,linewidth=2)\n",
        "p2.plot(t,f11(t),\"r-.\",label=label_f11,linewidth=2)\n",
        "p2.plot(t,f111(t),\"b:\",label=label_f111,linewidth=2)\n",
        "\n",
        "p1.axis([0.0,5.01,-1.0,1.5])\n",
        "\n",
        "p1.set_ylabel(\"v\",fontsize=14)\n",
        "p1.set_xlabel(\"t\",fontsize=14)\n",
        "#p1.set_title(\"A simple example\",fontsize=18)\n",
        "p1.grid(True)\n",
        "p1.legend()\n",
        "\n",
        "tx = 0.5\n",
        "ty = 0.9\n",
        "p1.text(tx,ty,label_f0,fontsize=15,verticalalignment=\"top\",horizontalalignment=\"left\")\n",
        "\n",
        "p2.axis([4,4.5,-0.02,0.03])\n",
        "p2.set_ylabel(\"v\",fontsize=14)\n",
        "p2.set_xlabel(\"t\",fontsize=14)\n",
        "p2.grid(True)\n",
        "p2.legend()\n",
        "\n",
        "# plot the box\n",
        "tx0 = 4\n",
        "tx1 = 4.5\n",
        "ty0 = -0.1\n",
        "ty1 = 0.1\n",
        "sx = [tx0,tx1,tx1,tx0,tx0]\n",
        "sy = [ty0,ty0,ty1,ty1,ty0]\n",
        "p1.plot(sx,sy,\"purple\")\n",
        "\n",
        "# plot patch lines\n",
        "xy=(4.45,0.09)\n",
        "xy2 = (4.02,0.026)\n",
        "con = ConnectionPatch(xyA=xy2,xyB=xy,coordsA=\"data\",coordsB=\"data\",\n",
        "        axesA=p2,axesB=p1)\n",
        "p2.add_artist(con)\n",
        "\n",
        "xy = (4.45,-0.09)\n",
        "xy2 = (4.02,-0.018)\n",
        "con = ConnectionPatch(xyA=xy2,xyB=xy,coordsA=\"data\",coordsB=\"data\",\n",
        "        axesA=p2,axesB=p1)\n",
        "p2.add_artist(con)\n",
        "\n",
        "plt.show()"
      ],
      "metadata": {}
    },
    {
      "cell_type": "code",
      "source": [
        "#!/usr/bin/env python\n",
        "\n",
        "import numpy as np\n",
        "import matplotlib.pyplot as plt\n",
        "from matplotlib.patches import ConnectionPatch\n",
        "\n",
        "def f1(t):\n",
        "    return np.exp(-t)*np.cos(2*np.pi*t)\n",
        "\n",
        "def f11(t):\n",
        "    return np.exp(-t)*np.cos(2*np.pi*t+0.2)\n",
        "\n",
        "def f111(t):\n",
        "    return np.exp(-t+0.2)*np.cos(2*np.pi*t)\n",
        "\n",
        "t = np.arange(0.0,5.0,0.02)\n",
        "\n",
        "plt.figure(figsize=(16,8),dpi=98)\n",
        "p1 = plt.subplot(121,aspect=5/2.5)\n",
        "p2 = plt.subplot(122,aspect=0.5/0.05)\n",
        "\n",
        "label_f0 = r\"$f(t)=e^{-t+\\alpha} \\cos (2 \\pi t+\\beta)$\"\n",
        "label_f1 = r\"$\\alpha=0,\\beta=0$\"\n",
        "label_f11 = r\"$\\alpha=0,\\beta=0.2$\"\n",
        "label_f111 = r\"$\\alpha=0.2,\\beta=0$\"\n",
        "\n",
        "p1.plot(t,f1(t),\"g\",label=label_f1,linewidth=2)\n",
        "p1.plot(t,f11(t),\"r-.\",label=label_f11,linewidth=2)\n",
        "p1.plot(t,f111(t),\"b:\",label=label_f111,linewidth=2)\n",
        "p2.plot(t,f1(t),\"g\",label=label_f1,linewidth=2)\n",
        "p2.plot(t,f11(t),\"r-.\",label=label_f11,linewidth=2)\n",
        "p2.plot(t,f111(t),\"b:\",label=label_f111,linewidth=2)\n",
        "\n",
        "p1.axis([0.0,5.01,-1.0,1.5])\n",
        "\n",
        "p1.set_ylabel(\"v\",fontsize=14)\n",
        "p1.set_xlabel(\"t\",fontsize=14)\n",
        "#p1.set_title(\"A simple example\",fontsize=18)\n",
        "p1.grid(True)\n",
        "p1.legend()\n",
        "\n",
        "tx = 0.5\n",
        "ty = 0.9\n",
        "p1.text(tx,ty,label_f0,fontsize=15,verticalalignment=\"top\",horizontalalignment=\"left\")\n",
        "\n",
        "p2.axis([4,4.5,-0.02,0.03])\n",
        "p2.set_ylabel(\"v\",fontsize=14)\n",
        "p2.set_xlabel(\"t\",fontsize=14)\n",
        "p2.grid(True)\n",
        "p2.legend()\n",
        "\n",
        "# plot the box\n",
        "tx0 = 4\n",
        "tx1 = 4.5\n",
        "ty0 = -0.1\n",
        "ty1 = 0.1\n",
        "sx = [tx0,tx1,tx1,tx0,tx0]\n",
        "sy = [ty0,ty0,ty1,ty1,ty0]\n",
        "p1.plot(sx,sy,\"purple\")\n",
        "\n",
        "# plot patch lines\n",
        "xy=(4.45,0.09)\n",
        "xy2 = (4.02,0.026)\n",
        "con = ConnectionPatch(xyA=xy2,xyB=xy,coordsA=\"data\",coordsB=\"data\",\n",
        "        axesA=p2,axesB=p1)\n",
        "p2.add_artist(con)\n",
        "\n",
        "xy = (4.45,-0.09)\n",
        "xy2 = (4.02,-0.018)\n",
        "con = ConnectionPatch(xyA=xy2,xyB=xy,coordsA=\"data\",coordsB=\"data\",\n",
        "        axesA=p2,axesB=p1)\n",
        "p2.add_artist(con)\n",
        "\n",
        "plt.show()"
      ],
      "outputs": [],
      "execution_count": null,
      "metadata": {}
    },
    {
      "cell_type": "code",
      "source": [],
      "outputs": [],
      "execution_count": null,
      "metadata": {}
    },
    {
      "cell_type": "code",
      "source": [
        "import matplotlib.pyplot as plt\n",
        "\n",
        "\n",
        "plt.figure()\n",
        "plt.plot(range(1000), temp[39000+58:40000+58], 'r', label='True value')   #    加上一个batch size  再加一个滞后 delay +lookback\n",
        "plt.plot(pre_power[1000:2000], 'b', label='predicted value')\n",
        "plt.title('True value and predicted value')\n",
        "plt.legend()\n",
        "\n",
        "plt.show()"
      ],
      "outputs": [],
      "execution_count": null,
      "metadata": {}
    },
    {
      "cell_type": "code",
      "source": [
        "plt.figure()\n",
        "plt.plot(range(500), temp[39000+58:39500+58], 'r', label='True value')   #    加上一个batch size  再加一个滞后 delay\n",
        "plt.plot(pre_power[1000:1500], 'b', label='predicted value')\n",
        "plt.title('True value and predicted value')\n",
        "plt.legend()\n",
        "\n",
        "plt.show()"
      ],
      "outputs": [],
      "execution_count": null,
      "metadata": {}
    },
    {
      "cell_type": "code",
      "source": [
        "plt.figure()\n",
        "plt.plot(range(200), temp[39100+58:39300+58], 'r', label='True value')   #    加上一个batch size  再加一个滞后 delay\n",
        "plt.plot(pre_power[1100:1300], 'b', label='predicted value')\n",
        "plt.title('True value and predicted value')\n",
        "plt.legend()\n",
        "\n",
        "plt.show()"
      ],
      "outputs": [],
      "execution_count": null,
      "metadata": {}
    },
    {
      "cell_type": "markdown",
      "source": [
        "## Wrapping up\n",
        "\n",
        "Here's what you should take away from this section:\n",
        "\n",
        "* In the same way that 2D convnets perform well for processing visual patterns in 2D space, 1D convnets perform well for processing \n",
        "temporal patterns. They offer a faster alternative to RNNs on some problems, in particular NLP tasks.\n",
        "* Typically 1D convnets are structured much like their 2D equivalents from the world of computer vision: they consist of stacks of `Conv1D` \n",
        "layers and `MaxPooling1D` layers, eventually ending in a global pooling operation or flattening operation.\n",
        "* Because RNNs are extremely expensive for processing very long sequences, but 1D convnets are cheap, it can be a good idea to use a 1D \n",
        "convnet as a preprocessing step before a RNN, shortening the sequence and extracting useful representations for the RNN to process.\n",
        "\n",
        "One useful and important concept that we will not cover in these pages is that of 1D convolution with dilated kernels."
      ],
      "metadata": {}
    },
    {
      "cell_type": "code",
      "source": [
        "import matplotlib.pyplot as plt\n",
        "\n",
        "steps = range(len(pre_power))\n",
        "\n",
        "plt.figure(figsize=(15,9))\n",
        "\n",
        "#调整坐标轴刻度的大小\n",
        "plt.xticks(fontsize=25)\n",
        "plt.yticks(fontsize=25)\n",
        "\n",
        "\n",
        "\n",
        "plt.plot(temp[38000+58:], 'r', label='True value', linewidth = 1)\n",
        "plt.plot(pre_power, 'b:', label='Predicted value', linewidth = 2)\n",
        "#plt.plot(pre_power, 'b', label='Predicted value')\n",
        "#plt.plot(range(5760), temp[38000:43760], 'r', label='True value')\n",
        "#plt.plot(pre_power, 'b', label='predicted value')\n",
        "\n",
        "# 设置图表标题并给坐标轴加上标签\n",
        "#plt.xlabel(\"Hourly points(05/04/2014-12/31/2014)\",fontsize=26)\n",
        "plt.xlabel(\"Hourly points(05/06/2014-12/30/2014)\",fontsize=26)\n",
        "plt.ylabel(\"PM2.5 concentration (μg/m^3)\",fontsize=26)\n",
        "#plt.title('True value and predicted value')\n",
        "\n",
        "# 设置图例字体大小\n",
        "plt.legend(fontsize=26)\n",
        "\n",
        "plt.show()"
      ],
      "outputs": [],
      "execution_count": null,
      "metadata": {}
    },
    {
      "cell_type": "code",
      "source": [
        "import matplotlib.pyplot as plt\n",
        "\n",
        "steps = range(len(pre_power))\n",
        "\n",
        "plt.figure(figsize=(30,9))\n",
        "\n",
        "#调整坐标轴刻度的大小\n",
        "plt.xticks(fontsize=25)\n",
        "plt.yticks(fontsize=25)\n",
        "\n",
        "\n",
        "\n",
        "plt.plot(temp[38000+58:], 'r', label='True value', linewidth = 1.5)\n",
        "plt.plot(pre_power, 'b:', label='Predicted value', linewidth = 2.5)\n",
        "#plt.plot(pre_power, 'b', label='Predicted value')\n",
        "#plt.plot(range(5760), temp[38000:43760], 'r', label='True value')\n",
        "#plt.plot(pre_power, 'b', label='predicted value')\n",
        "\n",
        "# 设置图表标题并给坐标轴加上标签\n",
        "#plt.xlabel(\"Hourly points(05/04/2014-12/31/2014)\",fontsize=26)\n",
        "plt.xlabel(\"Hourly points(05/06/2014-12/30/2014)\",fontsize=26)\n",
        "plt.ylabel(\"PM2.5 concentration (μg/m^3)\",fontsize=26)\n",
        "#plt.title('True value and predicted value')\n",
        "\n",
        "# 设置图例字体大小\n",
        "plt.legend(fontsize=26)\n",
        "\n",
        "plt.show()"
      ],
      "outputs": [],
      "execution_count": null,
      "metadata": {}
    },
    {
      "cell_type": "code",
      "source": [],
      "outputs": [],
      "execution_count": null,
      "metadata": {}
    }
  ],
  "metadata": {
    "kernelspec": {
      "name": "python3",
      "language": "python",
      "display_name": "Python 3"
    },
    "language_info": {
      "name": "python",
      "version": "3.6.8",
      "mimetype": "text/x-python",
      "codemirror_mode": {
        "name": "ipython",
        "version": 3
      },
      "pygments_lexer": "ipython3",
      "nbconvert_exporter": "python",
      "file_extension": ".py"
    },
    "kernel_info": {
      "name": "python3"
    },
    "nteract": {
      "version": "0.15.0"
    }
  },
  "nbformat": 4,
  "nbformat_minor": 2
}